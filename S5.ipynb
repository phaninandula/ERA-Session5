{
 "cells": [
  {
   "cell_type": "code",
   "execution_count": 1,
   "metadata": {
    "id": "eeQen6jLOiO9"
   },
   "outputs": [],
   "source": [
    "################## CODE BLOCK 1 ###############################################\n",
    "import torch\n",
    "import torch.nn as nn\n",
    "import torch.nn.functional as F\n",
    "import torch.optim as optim\n",
    "from torchvision import datasets, transforms"
   ]
  },
  {
   "cell_type": "code",
   "execution_count": 2,
   "metadata": {
    "id": "cBo1aS1rQfc-"
   },
   "outputs": [],
   "source": [
    "########### Importing modules #################################################\n",
    "import model as Model\n",
    "import utils as Utils\n"
   ]
  },
  {
   "cell_type": "code",
   "execution_count": 3,
   "metadata": {
    "colab": {
     "base_uri": "https://localhost:8080/"
    },
    "id": "osURQB8ZO3Sf",
    "outputId": "31e3835c-e5a5-4cee-da29-53b662891e9e"
   },
   "outputs": [
    {
     "name": "stdout",
     "output_type": "stream",
     "text": [
      "CUDA Available? False\n"
     ]
    }
   ],
   "source": [
    "################# CODE BLOCK 2 ################################################\n",
    "# CUDA?\n",
    "cuda = torch.cuda.is_available()\n",
    "print(\"CUDA Available?\", cuda)"
   ]
  },
  {
   "cell_type": "code",
   "execution_count": 4,
   "metadata": {
    "id": "ik0XCRNVO86L"
   },
   "outputs": [],
   "source": [
    "################ CODE BLOCK 4 #################################################\n",
    "train_data = datasets.MNIST('../data', train=True, download=True, transform=Utils.train_transforms)\n",
    "test_data = datasets.MNIST('../data', train=False, download=True, transform=Utils.test_transforms)"
   ]
  },
  {
   "cell_type": "code",
   "execution_count": 5,
   "metadata": {
    "id": "ffz8bjjUPOrE"
   },
   "outputs": [],
   "source": [
    "############### CODE BLOCK 5 ##################################################\n",
    "batch_size = 512\n",
    "\n",
    "kwargs = {'batch_size': batch_size, 'shuffle': True, 'num_workers': 2, 'pin_memory': True}\n",
    "\n",
    "test_loader = torch.utils.data.DataLoader(test_data, **kwargs)\n",
    "train_loader = torch.utils.data.DataLoader(train_data, **kwargs)"
   ]
  },
  {
   "cell_type": "code",
   "execution_count": 6,
   "metadata": {
    "colab": {
     "base_uri": "https://localhost:8080/",
     "height": 463
    },
    "id": "M9EPjiPYSer4",
    "outputId": "dd7a560a-875d-4591-875a-6d3eb506c722"
   },
   "outputs": [
    {
     "data": {
      "image/png": "[encoded data removed]",
      "text/plain": [
       "<Figure size 432x288 with 12 Axes>"
      ]
     },
     "metadata": {},
     "output_type": "display_data"
    }
   ],
   "source": [
    "########### CODE BLOCK 6 ######################################################\n",
    "import matplotlib.pyplot as plt\n",
    "\n",
    "batch_data, batch_label = next(iter(train_loader)) \n",
    "\n",
    "fig = plt.figure()\n",
    "\n",
    "for i in range(12):\n",
    "  plt.subplot(3,4,i+1)\n",
    "  plt.tight_layout()\n",
    "  plt.imshow(batch_data[i].squeeze(0), cmap='gray')\n",
    "  plt.title(batch_label[i].item())\n",
    "  plt.xticks([])\n",
    "  plt.yticks([])"
   ]
  },
  {
   "cell_type": "code",
   "execution_count": 7,
   "metadata": {
    "colab": {
     "base_uri": "https://localhost:8080/"
    },
    "id": "X7J5nx2APOne",
    "outputId": "2705b784-8367-4358-ddbc-3682e2340769"
   },
   "outputs": [
    {
     "name": "stdout",
     "output_type": "stream",
     "text": [
      "Requirement already satisfied: torchsummary in c:\\users\\hp\\anaconda3\\lib\\site-packages (1.5.1)\n",
      "----------------------------------------------------------------\n",
      "        Layer (type)               Output Shape         Param #\n",
      "================================================================\n",
      "            Conv2d-1           [-1, 32, 26, 26]             320\n",
      "            Conv2d-2           [-1, 64, 24, 24]          18,496\n",
      "            Conv2d-3          [-1, 128, 10, 10]          73,856\n",
      "            Conv2d-4            [-1, 256, 8, 8]         295,168\n",
      "            Linear-5                   [-1, 50]         204,850\n",
      "            Linear-6                   [-1, 10]             510\n",
      "================================================================\n",
      "Total params: 593,200\n",
      "Trainable params: 593,200\n",
      "Non-trainable params: 0\n",
      "----------------------------------------------------------------\n",
      "Input size (MB): 0.00\n",
      "Forward/backward pass size (MB): 0.67\n",
      "Params size (MB): 2.26\n",
      "Estimated Total Size (MB): 2.94\n",
      "----------------------------------------------------------------\n"
     ]
    }
   ],
   "source": [
    "############## CODE BLOCK 7 ###################################################\n",
    "!pip install torchsummary\n",
    "from torchsummary import summary\n",
    "use_cuda = torch.cuda.is_available()\n",
    "device = torch.device(\"cuda\" if use_cuda else \"cpu\")\n",
    "model = Model.Net().to(device)\n",
    "summary(model, input_size=(1, 28, 28))"
   ]
  },
  {
   "cell_type": "code",
   "execution_count": 8,
   "metadata": {
    "id": "hIluN49FP2hA"
   },
   "outputs": [],
   "source": [
    "############### CODE BLOCK 8 ##################################################\n",
    "# Data to plot accuracy and loss graphs\n",
    "train_losses = []\n",
    "test_losses = []\n",
    "train_acc = []\n",
    "test_acc = []\n",
    "\n",
    "test_incorrect_pred = {'images': [], 'ground_truths': [], 'predicted_vals': []}"
   ]
  },
  {
   "cell_type": "code",
   "execution_count": null,
   "metadata": {
    "colab": {
     "base_uri": "https://localhost:8080/"
    },
    "id": "ZBxR2zQFP2ck",
    "outputId": "adee8d75-c99c-49c6-cccc-b7b548dd2f57"
   },
   "outputs": [
    {
     "name": "stderr",
     "output_type": "stream",
     "text": [
      "\r",
      "  0%|                                                                                          | 0/118 [00:00<?, ?it/s]"
     ]
    },
    {
     "name": "stdout",
     "output_type": "stream",
     "text": [
      "Adjusting learning rate of group 0 to 1.0000e-02.\n",
      "Epoch 1\n"
     ]
    },
    {
     "name": "stderr",
     "output_type": "stream",
     "text": [
      "Train: Loss=0.3575 Batch_id=117 Accuracy=48.34: 100%|████████████████████████████████| 118/118 [10:45<00:00,  5.47s/it]\n",
      "  0%|                                                                                          | 0/118 [00:00<?, ?it/s]"
     ]
    },
    {
     "name": "stdout",
     "output_type": "stream",
     "text": [
      "Test set: Average loss: 0.2710, Accuracy: 9189/10000 (91.89%)\n",
      "\n",
      "Adjusting learning rate of group 0 to 1.0000e-02.\n",
      "Epoch 2\n"
     ]
    },
    {
     "name": "stderr",
     "output_type": "stream",
     "text": [
      "Train: Loss=0.0920 Batch_id=117 Accuracy=93.78: 100%|█████████████████████████████| 118/118 [4:35:22<00:00, 140.02s/it]\n",
      "  0%|                                                                                          | 0/118 [00:00<?, ?it/s]"
     ]
    },
    {
     "name": "stdout",
     "output_type": "stream",
     "text": [
      "Test set: Average loss: 0.0882, Accuracy: 9726/10000 (97.26%)\n",
      "\n",
      "Adjusting learning rate of group 0 to 1.0000e-02.\n",
      "Epoch 3\n"
     ]
    },
    {
     "name": "stderr",
     "output_type": "stream",
     "text": [
      "Train: Loss=0.0563 Batch_id=117 Accuracy=96.37: 100%|████████████████████████████████| 118/118 [09:06<00:00,  4.63s/it]\n",
      "  0%|                                                                                          | 0/118 [00:00<?, ?it/s]"
     ]
    },
    {
     "name": "stdout",
     "output_type": "stream",
     "text": [
      "Test set: Average loss: 0.0687, Accuracy: 9778/10000 (97.78%)\n",
      "\n",
      "Adjusting learning rate of group 0 to 1.0000e-02.\n",
      "Epoch 4\n"
     ]
    },
    {
     "name": "stderr",
     "output_type": "stream",
     "text": [
      "Train: Loss=0.2354 Batch_id=117 Accuracy=97.07: 100%|████████████████████████████████| 118/118 [08:30<00:00,  4.32s/it]\n",
      "  0%|                                                                                          | 0/118 [00:00<?, ?it/s]"
     ]
    },
    {
     "name": "stdout",
     "output_type": "stream",
     "text": [
      "Test set: Average loss: 0.0617, Accuracy: 9789/10000 (97.89%)\n",
      "\n",
      "Adjusting learning rate of group 0 to 1.0000e-02.\n",
      "Epoch 5\n"
     ]
    },
    {
     "name": "stderr",
     "output_type": "stream",
     "text": [
      "Train: Loss=0.0562 Batch_id=117 Accuracy=97.51: 100%|████████████████████████████████| 118/118 [08:11<00:00,  4.17s/it]\n",
      "  0%|                                                                                          | 0/118 [00:00<?, ?it/s]"
     ]
    },
    {
     "name": "stdout",
     "output_type": "stream",
     "text": [
      "Test set: Average loss: 0.0430, Accuracy: 9859/10000 (98.59%)\n",
      "\n",
      "Adjusting learning rate of group 0 to 1.0000e-02.\n",
      "Epoch 6\n"
     ]
    },
    {
     "name": "stderr",
     "output_type": "stream",
     "text": [
      "Train: Loss=0.0739 Batch_id=117 Accuracy=97.87: 100%|████████████████████████████████| 118/118 [08:08<00:00,  4.14s/it]\n",
      "  0%|                                                                                          | 0/118 [00:00<?, ?it/s]"
     ]
    },
    {
     "name": "stdout",
     "output_type": "stream",
     "text": [
      "Test set: Average loss: 0.0404, Accuracy: 9868/10000 (98.68%)\n",
      "\n",
      "Adjusting learning rate of group 0 to 1.0000e-02.\n",
      "Epoch 7\n"
     ]
    },
    {
     "name": "stderr",
     "output_type": "stream",
     "text": [
      "Train: Loss=0.0192 Batch_id=117 Accuracy=98.11: 100%|██████████████████████████████| 118/118 [2:58:34<00:00, 90.80s/it]\n",
      "  0%|                                                                                          | 0/118 [00:00<?, ?it/s]"
     ]
    },
    {
     "name": "stdout",
     "output_type": "stream",
     "text": [
      "Test set: Average loss: 0.0367, Accuracy: 9876/10000 (98.76%)\n",
      "\n",
      "Adjusting learning rate of group 0 to 1.0000e-02.\n",
      "Epoch 8\n"
     ]
    },
    {
     "name": "stderr",
     "output_type": "stream",
     "text": [
      "Train: Loss=0.0599 Batch_id=117 Accuracy=98.27: 100%|████████████████████████████████| 118/118 [08:41<00:00,  4.42s/it]\n",
      "  0%|                                                                                          | 0/118 [00:00<?, ?it/s]"
     ]
    },
    {
     "name": "stdout",
     "output_type": "stream",
     "text": [
      "Test set: Average loss: 0.0347, Accuracy: 9885/10000 (98.85%)\n",
      "\n",
      "Adjusting learning rate of group 0 to 1.0000e-02.\n",
      "Epoch 9\n"
     ]
    },
    {
     "name": "stderr",
     "output_type": "stream",
     "text": [
      "Train: Loss=0.0656 Batch_id=12 Accuracy=98.30:  11%|███▋                              | 13/118 [01:04<08:09,  4.66s/it]"
     ]
    }
   ],
   "source": [
    "############### CODE BLOCK 10 #################################################\n",
    "model =Model.Net().to(device)\n",
    "optimizer = optim.SGD(model.parameters(), lr=0.01, momentum=0.9)\n",
    "scheduler = optim.lr_scheduler.StepLR(optimizer, step_size=15, gamma=0.1, verbose=True)\n",
    "# New Line\n",
    "criterion = F.nll_loss\n",
    "num_epochs = 20\n",
    "\n",
    "for epoch in range(1, num_epochs+1):\n",
    "  print(f'Epoch {epoch}')\n",
    "  train_losses_, train_acc_ = Utils.train(model, device, train_loader, optimizer, criterion)#,train_losses=train_losses,train_acc=train_acc)\n",
    "  test_losses_, test_acc_ = Utils.test(model, device, test_loader, criterion)#,test_losses=test_losses,test_acc=test_acc)\n",
    "  scheduler.step()\n",
    "\n",
    "  train_losses.append(train_losses_)\n",
    "  train_acc.append(train_acc_)\n",
    "  test_losses.append(test_losses_)\n",
    "  test_acc.append(test_acc_)"
   ]
  },
  {
   "cell_type": "code",
   "execution_count": null,
   "metadata": {
    "colab": {
     "base_uri": "https://localhost:8080/"
    },
    "id": "ndgu1anduzb9",
    "outputId": "b9a0342f-c09a-4b0d-e19a-27b82a711713"
   },
   "outputs": [],
   "source": [
    "train_losses"
   ]
  },
  {
   "cell_type": "code",
   "execution_count": null,
   "metadata": {
    "colab": {
     "base_uri": "https://localhost:8080/",
     "height": 788
    },
    "id": "K6hVAcvxP2XX",
    "outputId": "a56abc1b-629f-4a6b-f466-2055ce62a8ea"
   },
   "outputs": [],
   "source": [
    "############# CODE BLOCK 11 #################################################################\n",
    "fig, axs = plt.subplots(2,2,figsize=(15,10))\n",
    "axs[0, 0].plot(train_losses)\n",
    "axs[0, 0].set_title(\"Training Loss\")\n",
    "axs[1, 0].plot(train_acc)\n",
    "axs[1, 0].set_title(\"Training Accuracy\")\n",
    "axs[0, 1].plot(test_losses)\n",
    "axs[0, 1].set_title(\"Test Loss\")\n",
    "axs[1, 1].plot(test_acc)\n",
    "axs[1, 1].set_title(\"Test Accuracy\")"
   ]
  },
  {
   "cell_type": "code",
   "execution_count": null,
   "metadata": {
    "id": "GJJnu3YMPOaE"
   },
   "outputs": [],
   "source": []
  }
 ],
 "metadata": {
  "accelerator": "GPU",
  "colab": {
   "gpuType": "T4",
   "provenance": []
  },
  "kernelspec": {
   "display_name": "Python 3",
   "language": "python",
   "name": "python3"
  },
  "language_info": {
   "codemirror_mode": {
    "name": "ipython",
    "version": 3
   },
   "file_extension": ".py",
   "mimetype": "text/x-python",
   "name": "python",
   "nbconvert_exporter": "python",
   "pygments_lexer": "ipython3",
   "version": "3.8.5"
  }
 },
 "nbformat": 4,
 "nbformat_minor": 1
}
